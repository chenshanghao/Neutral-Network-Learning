{
 "cells": [
  {
   "cell_type": "code",
   "execution_count": 1,
   "metadata": {},
   "outputs": [],
   "source": [
    "import torch\n",
    "from torch import nn\n",
    "from torch.autograd import Variable\n",
    "import torchvision.datasets as dsets\n",
    "import torchvision.transforms as transforms\n",
    "import matplotlib.pyplot as plt\n",
    "import torch.utils.data as Data"
   ]
  },
  {
   "cell_type": "code",
   "execution_count": 2,
   "metadata": {},
   "outputs": [],
   "source": [
    "# Hyper parameters\n",
    "EPOCH = 1               # train the training data n times, to save time, we just train 1 epoch\n",
    "BATCH_SIZE = 64\n",
    "TIME_STEMP = 28         # rnn time stem/ image height\n",
    "INPUT_SIZE =28          # rnn input size / image width\n",
    "LR =0.01                # learning rate\n",
    "DOWNLOAD_MNIST = False  # set to True if haven't download the data\n",
    "\n",
    "train_data = dsets.MNIST(\n",
    "    root ='/Users/chauncey_chen/Downloads/mnist',\n",
    "    train= True,\n",
    "    transform = transforms.ToTensor(),               # (0, 1)       (0-255)\n",
    "    download = DOWNLOAD_MNIST\n",
    ")"
   ]
  },
  {
   "cell_type": "code",
   "execution_count": 3,
   "metadata": {},
   "outputs": [],
   "source": [
    "test_data=dsets.MNIST(root='/Users/chauncey_chen/Downloads/mnist', train=False)\n",
    "# Data Loader for easy mini-batch return in training\n",
    "train_loader = torch.utils.data.DataLoader(dataset=train_data, batch_size=BATCH_SIZE, shuffle=True)\n",
    "test_x = test_data.test_data.type(torch.FloatTensor)[:2000]/255.   # shape (2000, 28, 28) value in range(0,1)\n",
    "test_y = test_data.test_labels.numpy()[:2000]    # covert to numpy array"
   ]
  },
  {
   "cell_type": "code",
   "execution_count": 4,
   "metadata": {},
   "outputs": [],
   "source": [
    "class RNN(nn.Module):\n",
    "    def __init__(self):\n",
    "        super(RNN, self).__init__()\n",
    "        \n",
    "        self.rnn = nn.LSTM(\n",
    "            input_size = INPUT_SIZE,\n",
    "            hidden_size = 64,\n",
    "            num_layers = 1,   #\n",
    "            batch_first= True\n",
    "        )\n",
    "        self.out = nn.Linear(64, 10)\n",
    "    \n",
    "    def forward(self, x):\n",
    "        r_out, (h_n, h_c) = self.rnn(x, None)   # x (batch,time_step,input_size)\n",
    "        out = self.out(r_out[:, -1, :])   #(batch, time step, input)\n",
    "        return out"
   ]
  },
  {
   "cell_type": "code",
   "execution_count": 5,
   "metadata": {},
   "outputs": [
    {
     "name": "stdout",
     "output_type": "stream",
     "text": [
      "RNN(\n",
      "  (rnn): LSTM(28, 64, batch_first=True)\n",
      "  (out): Linear(in_features=64, out_features=10, bias=True)\n",
      ")\n"
     ]
    }
   ],
   "source": [
    "rnn = RNN()\n",
    "print(rnn)"
   ]
  },
  {
   "cell_type": "code",
   "execution_count": 6,
   "metadata": {},
   "outputs": [],
   "source": [
    "optimizer = torch.optim.Adam(rnn.parameters(), lr = LR)   #optimize all cnn parameters\n",
    "loss_func = nn.CrossEntropyLoss()                         # the target label if not one-hotted"
   ]
  },
  {
   "cell_type": "code",
   "execution_count": 7,
   "metadata": {},
   "outputs": [
    {
     "name": "stdout",
     "output_type": "stream",
     "text": [
      "Epoch:  0 | train loss: 2.3112 | test accuracy: 0.17\n",
      "Epoch:  0 | train loss: 1.0790 | test accuracy: 0.54\n",
      "Epoch:  0 | train loss: 0.7720 | test accuracy: 0.73\n",
      "Epoch:  0 | train loss: 0.6939 | test accuracy: 0.80\n",
      "Epoch:  0 | train loss: 0.2774 | test accuracy: 0.86\n",
      "Epoch:  0 | train loss: 0.1866 | test accuracy: 0.89\n",
      "Epoch:  0 | train loss: 0.3430 | test accuracy: 0.90\n",
      "Epoch:  0 | train loss: 0.3215 | test accuracy: 0.89\n",
      "Epoch:  0 | train loss: 0.3015 | test accuracy: 0.91\n",
      "Epoch:  0 | train loss: 0.2314 | test accuracy: 0.91\n",
      "Epoch:  0 | train loss: 0.1320 | test accuracy: 0.94\n",
      "Epoch:  0 | train loss: 0.1118 | test accuracy: 0.94\n",
      "Epoch:  0 | train loss: 0.2262 | test accuracy: 0.94\n",
      "Epoch:  0 | train loss: 0.2138 | test accuracy: 0.95\n",
      "Epoch:  0 | train loss: 0.2427 | test accuracy: 0.91\n",
      "Epoch:  0 | train loss: 0.1158 | test accuracy: 0.95\n",
      "Epoch:  0 | train loss: 0.0989 | test accuracy: 0.95\n",
      "Epoch:  0 | train loss: 0.1504 | test accuracy: 0.95\n",
      "Epoch:  0 | train loss: 0.2186 | test accuracy: 0.95\n",
      "[7 2 1 0 4 1 4 9 5 9] prediction number\n",
      "[7 2 1 0 4 1 4 9 5 9] real number\n"
     ]
    },
    {
     "data": {
      "text/plain": [
       "'\\n[7 2 1 0 4 1 4 9 5 9] prediction number\\n[7 2 1 0 4 1 4 9 5 9] real number\\n'"
      ]
     },
     "execution_count": 7,
     "metadata": {},
     "output_type": "execute_result"
    }
   ],
   "source": [
    "# training and testing\n",
    "for epoch in range(EPOCH):\n",
    "    for step, (b_x, b_y) in enumerate(train_loader):        # gives batch data\n",
    "        b_x = b_x.view(-1, 28, 28)              # reshape x to (batch, time_step, input_size)\n",
    "\n",
    "        output = rnn(b_x)                               # rnn output\n",
    "        loss = loss_func(output, b_y)                   # cross entropy loss\n",
    "        optimizer.zero_grad()                           # clear gradients for this training step\n",
    "        loss.backward()                                 # backpropagation, compute gradients\n",
    "        optimizer.step()                                # apply gradients\n",
    "\n",
    "        if step % 50 == 0:\n",
    "            test_output = rnn(test_x)                   # (samples, time_step, input_size)\n",
    "            pred_y = torch.max(test_output, 1)[1].data.numpy()\n",
    "            accuracy = float((pred_y == test_y).astype(int).sum()) / float(test_y.size)\n",
    "            print('Epoch: ', epoch, '| train loss: %.4f' % loss.data.numpy(), '| test accuracy: %.2f' % accuracy)\n",
    "\n",
    "\n",
    "# print 10 predictions from test data\n",
    "test_output = rnn(test_x[:10].view(-1, 28, 28))\n",
    "pred_y = torch.max(test_output, 1)[1].data.numpy().squeeze()\n",
    "print(pred_y, 'prediction number')\n",
    "print(test_y[:10], 'real number')\n",
    "\"\"\"\n",
    "[7 2 1 0 4 1 4 9 5 9] prediction number\n",
    "[7 2 1 0 4 1 4 9 5 9] real number\n",
    "\"\"\""
   ]
  },
  {
   "cell_type": "code",
   "execution_count": null,
   "metadata": {},
   "outputs": [],
   "source": []
  }
 ],
 "metadata": {
  "kernelspec": {
   "display_name": "Python 3",
   "language": "python",
   "name": "python3"
  },
  "language_info": {
   "codemirror_mode": {
    "name": "ipython",
    "version": 3
   },
   "file_extension": ".py",
   "mimetype": "text/x-python",
   "name": "python",
   "nbconvert_exporter": "python",
   "pygments_lexer": "ipython3",
   "version": "3.6.6"
  }
 },
 "nbformat": 4,
 "nbformat_minor": 2
}
