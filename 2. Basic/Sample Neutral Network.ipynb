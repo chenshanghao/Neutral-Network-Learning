{
 "cells": [
  {
   "cell_type": "code",
   "execution_count": 1,
   "metadata": {},
   "outputs": [],
   "source": [
    "#-*-coding:utf-8-*- #\n",
    "\n",
    "# import library\n",
    "import logging\n",
    "import math\n",
    "import random\n",
    "import mxnet as mx\n",
    "import numpy as np"
   ]
  },
  {
   "cell_type": "code",
   "execution_count": 2,
   "metadata": {},
   "outputs": [],
   "source": [
    "# 打开调试信息的显示\n",
    "logging.getLogger().setLevel(logging.DEBUG) "
   ]
  },
  {
   "cell_type": "code",
   "execution_count": 3,
   "metadata": {},
   "outputs": [],
   "source": [
    "n_sample = 1000 # sample data number\n",
    "batch_size = 1 # batch size\n",
    "learning_rate = 0.1 # learning rate\n",
    "n_epoch = 1 # epoch number"
   ]
  },
  {
   "cell_type": "code",
   "execution_count": 4,
   "metadata": {},
   "outputs": [],
   "source": [
    "# 每个数据点是在 (0,1) 之间的 2 个随机数\n",
    "train_in = [[ random.uniform(0, 1) for c in range(2)] for n in range(n_sample)] \n",
    "\n",
    "# 期望输出，先初始化为 0\n",
    "train_out = [0 for n in range(n_sample)]"
   ]
  },
  {
   "cell_type": "code",
   "execution_count": 5,
   "metadata": {},
   "outputs": [],
   "source": [
    "for i in range(n_sample):\n",
    "    # 每个数据点的期望输出是 2 个输入数中的大者\n",
    "    train_out[i] = max(train_in[i][0], train_in[i][1])"
   ]
  },
  {
   "cell_type": "code",
   "execution_count": 6,
   "metadata": {},
   "outputs": [],
   "source": [
    "train_iter = mx.io.NDArrayIter(data = np.array(train_in), label = {'reg_label':np.array(train_out)}, batch_size = batch_size, shuffle = True)\n",
    "\n",
    "src = mx.sym.Variable('data')\n",
    "\n",
    "fc  = mx.sym.FullyConnected(data = src, num_hidden = 1, name = 'fc')\n",
    "\n",
    "net = mx.sym.LinearRegressionOutput(data = fc, name = 'reg')\n",
    "\n",
    "module = mx.mod.Module(symbol = net, label_names = (['reg_label']))"
   ]
  },
  {
   "cell_type": "code",
   "execution_count": 7,
   "metadata": {},
   "outputs": [
    {
     "name": "stderr",
     "output_type": "stream",
     "text": [
      "INFO:root:Epoch[0] Batch [100]\tSpeed: 2614.25 samples/sec\tmse=0.043387\n",
      "INFO:root:Epoch[0] Batch [200]\tSpeed: 2357.82 samples/sec\tmse=0.018802\n",
      "INFO:root:Epoch[0] Batch [300]\tSpeed: 2536.53 samples/sec\tmse=0.018297\n",
      "INFO:root:Epoch[0] Batch [400]\tSpeed: 2267.73 samples/sec\tmse=0.014475\n",
      "INFO:root:Epoch[0] Batch [500]\tSpeed: 2318.90 samples/sec\tmse=0.015596\n",
      "INFO:root:Epoch[0] Batch [600]\tSpeed: 2244.83 samples/sec\tmse=0.016810\n",
      "INFO:root:Epoch[0] Batch [700]\tSpeed: 2448.81 samples/sec\tmse=0.014367\n",
      "INFO:root:Epoch[0] Batch [800]\tSpeed: 2367.92 samples/sec\tmse=0.012448\n",
      "INFO:root:Epoch[0] Batch [900]\tSpeed: 2426.36 samples/sec\tmse=0.011891\n",
      "INFO:root:Epoch[0] Train-mse=0.017026\n",
      "INFO:root:Epoch[0] Time cost=0.704\n"
     ]
    },
    {
     "name": "stdout",
     "output_type": "stream",
     "text": [
      "fc_weight\n",
      "[[ 0.48085973  0.48560432]]\n",
      "fc_bias\n",
      "[ 0.17381699]\n"
     ]
    }
   ],
   "source": [
    "def epoch_callback(epoch, symbol, arg_params, aux_params):\n",
    "    for k in arg_params: # 对于所有参数…\n",
    "        print(k) # 输出参数名\n",
    "        print(arg_params[k].asnumpy()) # 参数值，转为 NumPy 数组，输出更美观\n",
    "        \n",
    "module.fit(\n",
    "    train_iter, # 训练数据的迭代器\n",
    "    eval_data = None, # 在此只训练，不使用测试数据\n",
    "    eval_metric = mx.metric.create('mse'), # 输出 MSE 损失信息\n",
    "    optimizer = 'sgd', # 梯度下降算法为 SGD\n",
    "    # 设置学习速率\n",
    "    optimizer_params = {'learning_rate': learning_rate}, \n",
    "    num_epoch = n_epoch, # 训练 epoch 数\n",
    "    # 每经过 100 个 batch 输出训练速度 \n",
    "    batch_end_callback = mx.callback.Speedometer(batch_size, 100), \n",
    "    epoch_end_callback = epoch_callback, # 完成每个 epoch 后调用 epoch_callback\n",
    ")"
   ]
  },
  {
   "cell_type": "code",
   "execution_count": null,
   "metadata": {},
   "outputs": [],
   "source": []
  }
 ],
 "metadata": {
  "kernelspec": {
   "display_name": "Python 3",
   "language": "python",
   "name": "python3"
  },
  "language_info": {
   "codemirror_mode": {
    "name": "ipython",
    "version": 3
   },
   "file_extension": ".py",
   "mimetype": "text/x-python",
   "name": "python",
   "nbconvert_exporter": "python",
   "pygments_lexer": "ipython3",
   "version": "3.6.4"
  }
 },
 "nbformat": 4,
 "nbformat_minor": 2
}
