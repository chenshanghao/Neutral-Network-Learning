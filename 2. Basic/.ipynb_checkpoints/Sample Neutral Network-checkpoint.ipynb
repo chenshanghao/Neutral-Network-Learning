{
 "cells": [
  {
   "cell_type": "code",
   "execution_count": 1,
   "metadata": {},
   "outputs": [],
   "source": [
    "#-*-coding:utf-8-*- #\n",
    "\n",
    "# 准备工作，导入库\n",
    "# import library\n",
    "import logging\n",
    "import math\n",
    "import random\n",
    "import mxnet as mx\n",
    "import numpy as np"
   ]
  },
  {
   "cell_type": "code",
   "execution_count": 3,
   "metadata": {},
   "outputs": [],
   "source": [
    "# 打开调试信息的显示\n",
    "logging.getLogger().setLevel(logging.DEBUG) "
   ]
  },
  {
   "cell_type": "code",
   "execution_count": 4,
   "metadata": {},
   "outputs": [],
   "source": [
    "# 设置超参数\n",
    "n_sample = 1000 # sample data number\n",
    "batch_size = 1 # batch size\n",
    "learning_rate = 0.1 # learning rate\n",
    "n_epoch = 1 # epoch number"
   ]
  },
  {
   "cell_type": "code",
   "execution_count": 5,
   "metadata": {},
   "outputs": [],
   "source": [
    "# 获得训练数据\n",
    "# 每个数据点是在 (0,1) 之间的 2 个随机数\n",
    "train_in = [[ random.uniform(0, 1) for c in range(2)] for n in range(n_sample)] \n",
    "\n",
    "# 期望输出，先初始化为 0\n",
    "train_out = [0 for n in range(n_sample)]"
   ]
  },
  {
   "cell_type": "code",
   "execution_count": 6,
   "metadata": {},
   "outputs": [],
   "source": [
    "for i in range(n_sample):\n",
    "    # 每个数据点的期望输出是 2 个输入数中的大者\n",
    "    train_out[i] = max(train_in[i][0], train_in[i][1])"
   ]
  },
  {
   "cell_type": "code",
   "execution_count": 7,
   "metadata": {},
   "outputs": [],
   "source": [
    "# 训练数据的迭代器\n",
    "train_iter = mx.io.NDArrayIter(data = np.array(train_in), label = {'reg_label':np.array(train_out)}, batch_size = batch_size, shuffle = True)\n",
    "\n",
    "# 定义网络结构   输入层\n",
    "src = mx.sym.Variable('data')\n",
    "\n",
    "# 全连接层  num_hidden->此层有一个神经元\n",
    "fc  = mx.sym.FullyConnected(data = src, num_hidden = 1, name = 'fc')\n",
    "\n",
    "# 输入数据为fc, 命名为reg\n",
    "net = mx.sym.LinearRegressionOutput(data = fc, name = 'reg')\n",
    "\n",
    "# 定义变量module为需训练的网络模组\n",
    "module = mx.mod.Module(symbol = net, label_names = (['reg_label']))"
   ]
  },
  {
   "cell_type": "code",
   "execution_count": 8,
   "metadata": {},
   "outputs": [
    {
     "name": "stderr",
     "output_type": "stream",
     "text": [
      "INFO:root:Epoch[0] Batch [100]\tSpeed: 2475.20 samples/sec\tmse=0.042577\n",
      "INFO:root:Epoch[0] Batch [200]\tSpeed: 2432.91 samples/sec\tmse=0.014249\n",
      "INFO:root:Epoch[0] Batch [300]\tSpeed: 2324.71 samples/sec\tmse=0.017389\n",
      "INFO:root:Epoch[0] Batch [400]\tSpeed: 2528.38 samples/sec\tmse=0.014808\n",
      "INFO:root:Epoch[0] Batch [500]\tSpeed: 2519.98 samples/sec\tmse=0.012631\n",
      "INFO:root:Epoch[0] Batch [600]\tSpeed: 2462.15 samples/sec\tmse=0.015068\n",
      "INFO:root:Epoch[0] Batch [700]\tSpeed: 2379.48 samples/sec\tmse=0.015255\n",
      "INFO:root:Epoch[0] Batch [800]\tSpeed: 2372.04 samples/sec\tmse=0.017084\n",
      "INFO:root:Epoch[0] Batch [900]\tSpeed: 2453.40 samples/sec\tmse=0.016849\n",
      "INFO:root:Epoch[0] Train-mse=0.014489\n",
      "INFO:root:Epoch[0] Time cost=0.710\n"
     ]
    },
    {
     "name": "stdout",
     "output_type": "stream",
     "text": [
      "fc_weight\n",
      "[[ 0.55011141  0.49512723]]\n",
      "fc_bias\n",
      "[ 0.14131179]\n"
     ]
    }
   ],
   "source": [
    "# 定义epoch_callback函数，在此它负责输出训练出的网络的参数值\n",
    "\n",
    "def epoch_callback(epoch, symbol, arg_params, aux_params):\n",
    "    for k in arg_params: # 对于所有参数…\n",
    "        print(k) # 输出参数名\n",
    "        print(arg_params[k].asnumpy()) # 参数值，转为 NumPy 数组，输出更美观\n",
    "\n",
    "        # 调用module.fit 开始训练        \n",
    "module.fit(\n",
    "    train_iter, # 训练数据的迭代器\n",
    "    eval_data = None, # 在此只训练，不使用测试数据\n",
    "    eval_metric = mx.metric.create('mse'), # 输出 MSE 损失信息\n",
    "    optimizer = 'sgd', # 梯度下降算法为 SGD\n",
    "    # 设置学习速率\n",
    "    optimizer_params = {'learning_rate': learning_rate}, \n",
    "    num_epoch = n_epoch, # 训练 epoch 数\n",
    "    # 每经过 100 个 batch 输出训练速度 \n",
    "    batch_end_callback = mx.callback.Speedometer(batch_size, 100), \n",
    "    epoch_end_callback = epoch_callback, # 完成每个 epoch 后调用 epoch_callback\n",
    ")"
   ]
  },
  {
   "cell_type": "code",
   "execution_count": null,
   "metadata": {},
   "outputs": [],
   "source": []
  }
 ],
 "metadata": {
  "kernelspec": {
   "display_name": "Python 3",
   "language": "python",
   "name": "python3"
  },
  "language_info": {
   "codemirror_mode": {
    "name": "ipython",
    "version": 3
   },
   "file_extension": ".py",
   "mimetype": "text/x-python",
   "name": "python",
   "nbconvert_exporter": "python",
   "pygments_lexer": "ipython3",
   "version": "3.6.4"
  }
 },
 "nbformat": 4,
 "nbformat_minor": 2
}
