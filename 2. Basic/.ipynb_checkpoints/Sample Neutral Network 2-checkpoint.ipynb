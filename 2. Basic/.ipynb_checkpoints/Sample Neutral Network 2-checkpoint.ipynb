{
 "cells": [
  {
   "cell_type": "code",
   "execution_count": 1,
   "metadata": {},
   "outputs": [],
   "source": [
    "#-*-coding:utf-8-*- # 如果使用py文件，需声明此文件为 UTF-8 格式，这样可以使用中文注释。如果使用ipynb文件，则无需此行\n",
    "\n",
    "import logging\n",
    "import math\n",
    "import random\n",
    "import mxnet as mx # 导入 MXNet 库\n",
    "import numpy as np # 导入 NumPy 库，这是 Python 常用的科学计算库"
   ]
  },
  {
   "cell_type": "code",
   "execution_count": 2,
   "metadata": {},
   "outputs": [],
   "source": [
    "# 打开调试信息的显示\n",
    "logging.getLogger().setLevel(logging.DEBUG) "
   ]
  },
  {
   "cell_type": "code",
   "execution_count": 3,
   "metadata": {},
   "outputs": [],
   "source": [
    "# 设置超参数\n",
    "n_sample = 10000 # 训练用的数据点个数\n",
    "batch_size = 10 # 批大小\n",
    "learning_rate = 0.1 # 学习速率\n",
    "n_epoch = 10 # 训练 epoch 数"
   ]
  },
  {
   "cell_type": "code",
   "execution_count": 4,
   "metadata": {},
   "outputs": [],
   "source": [
    "# 数据生成器 和 迭代器\n",
    "# 每个数据点是在 (0,1) 之间的 2 个随机数\n",
    "train_in = [[ random.uniform(0, 1) for c in range(2)] for n in range(n_sample)] \n",
    "\n",
    "train_out = [0 for n in range(n_sample)] # 期望输出，先初始化为 0\n",
    "\n",
    "for i in range(n_sample):\n",
    "    # 每个数据点的期望输出是 2 个输入数中的大者\n",
    "    train_out[i] = max(train_in[i][0], train_in[i][1])\n",
    "\n",
    "train_iter = mx.io.NDArrayIter(data = np.array(train_in), label = {'reg_label':np.array(train_out)}, batch_size = batch_size, shuffle = True)"
   ]
  },
  {
   "cell_type": "code",
   "execution_count": 8,
   "metadata": {},
   "outputs": [],
   "source": [
    "# 定义神经网络结构， 有两个隐层， 每个隐层有10个神经元, Relu非线性\n",
    "src = mx.sym.Variable('data') # 输入层\n",
    "fc1  = mx.sym.FullyConnected(data = src, num_hidden = 3, name = 'fc1') # 全连接层\n",
    "act1 = mx.sym.Activation(data = fc1, act_type = \"relu\", name = 'act1') # ReLU层\n",
    "fc2  = mx.sym.FullyConnected(data = act1, num_hidden = 3, name = 'fc2') # 全连接层\n",
    "act2 = mx.sym.Activation(data = fc2, act_type = \"relu\", name = 'act2') # ReLU层\n",
    "fc3  = mx.sym.FullyConnected(data = act2, num_hidden = 1, name = 'fc3') # 全连接层\n",
    "net = mx.sym.LinearRegressionOutput(data = fc3, name = 'reg') # 输出层\n",
    "\n",
    "module = mx.mod.Module(symbol = net, label_names = (['reg_label']))"
   ]
  },
  {
   "cell_type": "code",
   "execution_count": 9,
   "metadata": {},
   "outputs": [
    {
     "name": "stderr",
     "output_type": "stream",
     "text": [
      "INFO:root:Epoch[0] Train-mse=0.023414\n",
      "INFO:root:Epoch[0] Time cost=0.716\n",
      "INFO:root:Epoch[1] Train-mse=0.005282\n",
      "INFO:root:Epoch[1] Time cost=0.698\n",
      "INFO:root:Epoch[2] Train-mse=0.000843\n",
      "INFO:root:Epoch[2] Time cost=0.664\n",
      "INFO:root:Epoch[3] Train-mse=0.000063\n",
      "INFO:root:Epoch[3] Time cost=0.668\n",
      "INFO:root:Epoch[4] Train-mse=0.000010\n",
      "INFO:root:Epoch[4] Time cost=0.658\n",
      "INFO:root:Epoch[5] Train-mse=0.000005\n",
      "INFO:root:Epoch[5] Time cost=0.647\n",
      "INFO:root:Epoch[6] Train-mse=0.000003\n",
      "INFO:root:Epoch[6] Time cost=0.658\n",
      "INFO:root:Epoch[7] Train-mse=0.000002\n",
      "INFO:root:Epoch[7] Time cost=0.652\n",
      "INFO:root:Epoch[8] Train-mse=0.000002\n",
      "INFO:root:Epoch[8] Time cost=0.711\n",
      "INFO:root:Epoch[9] Train-mse=0.000001\n",
      "INFO:root:Epoch[9] Time cost=0.665\n"
     ]
    }
   ],
   "source": [
    "# 训练模型\n",
    "module.fit(\n",
    "    train_iter, # 训练数据的迭代器\n",
    "    eval_data = None, # 在此只训练，不使用测试数据\n",
    "    eval_metric = mx.metric.create('mse'), # 输出 MSE 损失信息\n",
    "    # 将权重和偏置初始化为在[-0.5, 0.5]间均匀的随机数 \n",
    "    initializer = mx.initializer.Uniform(0.5), \n",
    "    optimizer = 'sgd', # 梯度下降算法为 SGD\n",
    "    # 设置学习速率\n",
    "    optimizer_params = {'learning_rate': learning_rate}, \n",
    "    num_epoch = n_epoch, # 训练 epoch 数\n",
    "    batch_end_callback = None, # 减少输出信息\n",
    "    epoch_end_callback = None # 减少输出信息\n",
    ")"
   ]
  },
  {
   "cell_type": "code",
   "execution_count": 7,
   "metadata": {},
   "outputs": [
    {
     "name": "stdout",
     "output_type": "stream",
     "text": [
      "{'fc1_weight': \n",
      "[[-0.01184775  0.16463038]\n",
      " [ 0.27909833  0.48233786]\n",
      " [-0.00098594  0.47086403]\n",
      " [ 0.02674723  0.44647846]\n",
      " [-0.08945666  0.05756824]\n",
      " [ 0.25086388 -0.13035302]\n",
      " [-0.0624128  -0.20246539]\n",
      " [ 0.67430329 -0.64340603]\n",
      " [ 0.25227246 -0.29551166]\n",
      " [-0.11655849 -0.02233487]]\n",
      "<NDArray 10x2 @cpu(0)>, 'fc1_bias': \n",
      "[ 0.00535045  0.04567979  0.00130494  0.01639411  0.10619283  0.12758821\n",
      "  0.         -0.01135134 -0.21885937  0.        ]\n",
      "<NDArray 10 @cpu(0)>, 'fc2_weight': \n",
      "[[ 0.31813049  0.37764475  0.08855581  0.03124433  0.07548539 -0.11491889\n",
      "   0.42559665  0.41615865 -0.39416015 -0.16260383]\n",
      " [-0.40435246  0.17725928 -0.46859649 -0.11560615  0.3497932   0.4769921\n",
      "   0.27815676 -0.42607126  0.36124319  0.37008727]\n",
      " [ 0.50743699  0.04484019  0.36397478  0.35658357 -0.03057637  0.01213695\n",
      "   0.2805292   0.26668847 -0.34359515  0.22063267]\n",
      " [ 0.13464035  0.06703536 -0.38952747  0.00824052  0.44123992  0.28398368\n",
      "   0.02184832 -0.4565787  -0.09770405 -0.02639958]\n",
      " [-0.21842466 -0.27370572  0.31489694  0.27664399 -0.02901651 -0.29393315\n",
      "   0.06843394 -0.36504635 -0.48120797 -0.175859  ]\n",
      " [-0.07720309  0.51192242  0.23284154  0.44694829 -0.48900104 -0.37034997\n",
      "  -0.19766742  0.54713523 -0.34461093 -0.26391101]\n",
      " [-0.35752597  0.06864528 -0.2303945  -0.03555946 -0.17505679  0.22279632\n",
      "  -0.10323253  0.57774436  0.08023756  0.34631091]\n",
      " [-0.08080548 -0.18672648  0.18521953  0.02454817 -0.29554775 -0.05654711\n",
      "   0.37811744 -0.27042279 -0.47261241  0.03441393]\n",
      " [ 0.20744465  0.50618988  0.00082069  0.02890768  0.06918803 -0.07921898\n",
      "  -0.35961306  0.54801482 -0.25340432  0.27838922]\n",
      " [ 0.31958482  0.26420411  0.50926161  0.34108007 -0.1728323  -0.40652686\n",
      "   0.19232261  0.099331    0.40230349  0.36502028]]\n",
      "<NDArray 10x10 @cpu(0)>, 'fc2_bias': \n",
      "[ 0.0040836   0.17369515  0.00037129  0.16186495  0.05210323  0.03851506\n",
      "  0.0306999   0.          0.01269013  0.04716934]\n",
      "<NDArray 10 @cpu(0)>, 'fc3_weight': \n",
      "[[ 0.34186634 -0.46516514  0.36417079 -0.43385413  0.18604279  0.28397664\n",
      "   0.52242863  0.4025985   0.45462456  0.36191899]]\n",
      "<NDArray 1x10 @cpu(0)>, 'fc3_bias': \n",
      "[ 0.21480674]\n",
      "<NDArray 1 @cpu(0)>}\n",
      "{}\n"
     ]
    }
   ],
   "source": [
    "for k in module.get_params(): # 对于所有参数…\n",
    "    print(k) # 输出参数"
   ]
  }
 ],
 "metadata": {
  "kernelspec": {
   "display_name": "Python 3",
   "language": "python",
   "name": "python3"
  },
  "language_info": {
   "codemirror_mode": {
    "name": "ipython",
    "version": 3
   },
   "file_extension": ".py",
   "mimetype": "text/x-python",
   "name": "python",
   "nbconvert_exporter": "python",
   "pygments_lexer": "ipython3",
   "version": "3.6.4"
  }
 },
 "nbformat": 4,
 "nbformat_minor": 2
}
