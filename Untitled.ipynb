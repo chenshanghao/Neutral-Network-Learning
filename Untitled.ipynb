{
 "cells": [
  {
   "cell_type": "code",
   "execution_count": 2,
   "metadata": {},
   "outputs": [],
   "source": [
    "import os\n",
    "import torch\n",
    "from torch import device\n",
    "import glob\n",
    "import datetime\n",
    "import numpy as np\n",
    "import shutil\n",
    "from pathlib import Path\n",
    "import pickle\n",
    "import pandas as pd"
   ]
  },
  {
   "cell_type": "code",
   "execution_count": 43,
   "metadata": {},
   "outputs": [
    {
     "name": "stdout",
     "output_type": "stream",
     "text": [
      "df_test\n",
      "1841\n",
      "0.0    1572\n",
      "1.0     269\n",
      "Name: 2, dtype: int64\n",
      "df_train\n",
      "1833\n",
      "0.0    1833\n",
      "Name: 2, dtype: int64\n",
      "df_whole\n",
      "3751\n",
      "0.0    3482\n",
      "1.0     269\n",
      "Name: 2, dtype: int64\n"
     ]
    }
   ],
   "source": [
    "test_path = \"/Users/chauncey_chen/RNN-Time-series-Anomaly-Detection/dataset/ecg/labeled/test/chfdb_chf01_275.pkl\"\n",
    "train_path = \"/Users/chauncey_chen/RNN-Time-series-Anomaly-Detection/dataset/ecg/labeled/train/chfdb_chf01_275.pkl\"\n",
    "whole_path = \"/Users/chauncey_chen/RNN-Time-series-Anomaly-Detection/dataset/ecg/labeled/whole/chfdb_chf01_275.pkl\"\n",
    "\n",
    "with open(test_path, 'rb') as test_data, open(train_path, 'rb') as train_data, open(whole_path, 'rb') as whole_data:\n",
    "    test_data = pickle.load(test_data)\n",
    "    train_data = pickle.load(train_data)\n",
    "    whole_data = pickle.load(whole_data)\n",
    "    \n",
    "df_test = pd.DataFrame.from_dict(test_data)\n",
    "df_train = pd.DataFrame.from_dict(train_data)\n",
    "df_whole = pd.DataFrame.from_dict(whole_data)\n",
    "\n",
    "print(\"df_test\")\n",
    "print(len(df_test))\n",
    "print(df_test[2].value_counts())\n",
    "\n",
    "print(\"df_train\")\n",
    "print(len(df_train))\n",
    "print(df_train[2].value_counts())\n",
    "\n",
    "print(\"df_whole\")\n",
    "print(len(df_whole))\n",
    "print(df_whole[2].value_counts())"
   ]
  },
  {
   "cell_type": "code",
   "execution_count": 40,
   "metadata": {},
   "outputs": [
    {
     "data": {
      "text/plain": [
       "array([0., 0., 0., ..., 0., 0., 0.], dtype=float32)"
      ]
     },
     "execution_count": 40,
     "metadata": {},
     "output_type": "execute_result"
    }
   ],
   "source": [
    "with open(test_path, 'rb') as f:\n",
    "    data = torch.FloatTensor(pickle.load(f))\n",
    "    label = data[:,-1]\n",
    "    data = data[:,:-1]\n",
    "label.numpy()"
   ]
  }
 ],
 "metadata": {
  "kernelspec": {
   "display_name": "Python 3",
   "language": "python",
   "name": "python3"
  },
  "language_info": {
   "codemirror_mode": {
    "name": "ipython",
    "version": 3
   },
   "file_extension": ".py",
   "mimetype": "text/x-python",
   "name": "python",
   "nbconvert_exporter": "python",
   "pygments_lexer": "ipython3",
   "version": "3.6.6"
  }
 },
 "nbformat": 4,
 "nbformat_minor": 2
}
