{
 "cells": [
  {
   "cell_type": "code",
   "execution_count": 2,
   "metadata": {},
   "outputs": [],
   "source": [
    "%matplotlib inline\n",
    "import matplotlib.pyplot as plt\n",
    "plt.style.use('seaborn-whitegrid')\n",
    "import numpy as np"
   ]
  },
  {
   "cell_type": "markdown",
   "metadata": {},
   "source": [
    "## 0. Correlation of Discrete Signals"
   ]
  },
  {
   "cell_type": "markdown",
   "metadata": {},
   "source": [
    "Correlation is a **measure** of how **similar** signals are"
   ]
  },
  {
   "cell_type": "markdown",
   "metadata": {},
   "source": [
    "#### 0.1 Formula"
   ]
  },
  {
   "cell_type": "markdown",
   "metadata": {},
   "source": [
    "$$ Corr_{x,y} = \\sum_{n=0}^{N-1}x[n]\\cdot y[n] $$"
   ]
  },
  {
   "cell_type": "markdown",
   "metadata": {},
   "source": [
    "#### 0.2 Example"
   ]
  },
  {
   "cell_type": "markdown",
   "metadata": {},
   "source": [
    " $$ 1.\\ x =[1, 3, -2, 4] $$\n",
    "\n",
    " $$ 2.\\ y =[2, 3, -1, 3] $$\n",
    "\n",
    " $$ 3.\\ z =[2, -1, 4, -2] $$"
   ]
  },
  {
   "cell_type": "code",
   "execution_count": 19,
   "metadata": {},
   "outputs": [
    {
     "data": {
      "image/png": "[encoded data removed]",
      "text/plain": [
       "<Figure size 432x288 with 3 Axes>"
      ]
     },
     "metadata": {},
     "output_type": "display_data"
    }
   ],
   "source": [
    "time = np.array([0, 1, 2, 3])\n",
    "x = np.array([1,3,-2,4])\n",
    "y = np.array([2,3,-1,3])\n",
    "z = np.array([2, -1, 4, -2])\n",
    "\n",
    "fig = plt.figure()\n",
    "\n",
    "ax1 = fig.add_axes([2.0, 1.0, 0.8, 0.4], xticklabels=[], ylim=(-5, 5))\n",
    "ax2 = fig.add_axes([2.0, 0.6, 0.8, 0.4], ylim=(-5, 5))\n",
    "ax3 = fig.add_axes([2.0, 0.2, 0.8, 0.4], ylim=(-5, 5))\n",
    "\n",
    "\n",
    "ax1.plot(time, x,'-ok', color='blue')\n",
    "ax2.plot(time, y, '-ok',color ='red')\n",
    "ax3.plot(time, z, '-ok',color ='green');"
   ]
  },
  {
   "cell_type": "markdown",
   "metadata": {},
   "source": [
    "$$ Corr_{x,y} = x[0]y[0] + x[1]y[1] + x[2]y[2] + x[3]y[3]=(1)\\cdot (2)+(3)\\cdot (3)+(-2)\\cdot (-1)+(4)\\cdot (3)=25 $$\n",
    "\n",
    "$$ Corr_{y,z} = y[0]z[0] + y[1]z[1] + y[2]z[2] + y[3]z[3]=(2)\\cdot (2)+(3)\\cdot (-1)+(-1)\\cdot (4)+(3)\\cdot (-2)=-9 $$\n"
   ]
  },
  {
   "cell_type": "markdown",
   "metadata": {},
   "source": [
    "#### 0.3 Normalized Correlation\n",
    "\n",
    "Consider if $$ z =[500, -1, 4, -2] $$\n",
    "it seems $$ Corr_{x,y} < Corr_{y,z} $$\n",
    "\n",
    "But this is not right. So we need to **normalized correlation**."
   ]
  },
  {
   "cell_type": "markdown",
   "metadata": {},
   "source": [
    "#### 0.4 Formula"
   ]
  },
  {
   "cell_type": "markdown",
   "metadata": {},
   "source": [
    "$$ Corr\\_norm_{x,y}=\\frac{\\sum_{n=0}^{N-1}x[n]\\cdot y[n]}{\\sqrt{\\sum_{n=0}^{N-1}x^{2}[n]\\cdot \\sum_{n=0}^{N-1}y^{2}[n]}} $$ "
   ]
  },
  {
   "cell_type": "markdown",
   "metadata": {},
   "source": [
    "Suppose: $$ z =[2, -1, 4, -2] $$\n",
    "$$ Corr_{x,y} = x[0]y[0] + x[1]y[1] + x[2]y[2] + x[3]y[3]=(1)\\cdot (2)+(3)\\cdot (3)+(-2)\\cdot (-1)+(4)\\cdot (3)=25 $$\n",
    "$$ norm\\_den_{x,y}=sqrt((1+9+3+16)(4+9+1+9)) = 26.27 $$\n",
    "$$ norm\\_cov_{x,y}=25/26.27 = 0.95 $$\n",
    "\n",
    "$$ Corr_{y,z} = y[0]z[0] + y[1]z[1] + y[2]z[2] + y[3]z[3]=(2)\\cdot (100)+(3)\\cdot (-1)+(-1)\\cdot (4)+(3)\\cdot (-2)=187 $$\n",
    "$$ norm\\_den_{x,y}=sqrt((24)(10000+1+16+4)) = 490.41 $$\n",
    "$$ norm\\_cov_{x,y}=25/26.27 = 0.38 $$\n"
   ]
  },
  {
   "cell_type": "markdown",
   "metadata": {},
   "source": [
    "## 1. Cross-correlation"
   ]
  },
  {
   "cell_type": "markdown",
   "metadata": {},
   "source": [
    "#### 1.1 Definiation"
   ]
  },
  {
   "cell_type": "markdown",
   "metadata": {},
   "source": [
    "**Cross-correlation** is the comparison of **two different time series** to detect if there is a **correlation** between metrics with the same maximum and minimum values. For example: “Are two audio signals in phase?”"
   ]
  },
  {
   "cell_type": "markdown",
   "metadata": {},
   "source": [
    "#### 1.2 Formula"
   ]
  },
  {
   "cell_type": "markdown",
   "metadata": {},
   "source": [
    "$$ G[i, j] = \\sum_{u=-k}^{k}\\sum_{v=-k}^{k}h[u, v]\\cdot F[i+u, j+v] $$\n",
    "\n",
    "$$ k: number\\ of\\ negihbor $$\n",
    "$$ h[u,v]: weight $$"
   ]
  },
  {
   "cell_type": "markdown",
   "metadata": {},
   "source": [
    "Notice: **From left to right** and **from top to bottom**"
   ]
  },
  {
   "cell_type": "markdown",
   "metadata": {},
   "source": [
    "#### 1.3 Example"
   ]
  },
  {
   "cell_type": "markdown",
   "metadata": {},
   "source": [
    "![title](img/crosscorrelation.jpg)"
   ]
  },
  {
   "cell_type": "markdown",
   "metadata": {},
   "source": [
    "$$ G[3,3 ] = a*A+b*B+c*C+d*D+e*E+f*F+g*G+h*H+i*I $$"
   ]
  },
  {
   "cell_type": "markdown",
   "metadata": {},
   "source": [
    "#### 1.4 Time-series supplemental materials\n",
    "$$ R(i) = \\int_{-\\infty}^{-\\infty}x(t)\\cdot y(t+i)dt $$\n",
    "\n",
    "Where\n",
    "**x(t)** and **y(t)** is a function of time;\n",
    "\n",
    "     i is the time delay. It can be negative, zero or positive;\n",
    "\n",
    "     R is corss correlation, which is a function of the time delay i.\n",
    "\n",
    "     When x(t) = y(t), cross correlation becomes auto correlation."
   ]
  },
  {
   "cell_type": "markdown",
   "metadata": {},
   "source": [
    "#### 1.5 Example"
   ]
  },
  {
   "cell_type": "markdown",
   "metadata": {},
   "source": [
    " $$ 1.\\ x =[0.1,0.2,-0.1,4.1,-2,1.5,-0.1] $$\n",
    " $$ 2.\\ y =[0.1,4,-2.2,1.6,0.1,0.1,0.2] $$"
   ]
  },
  {
   "cell_type": "markdown",
   "metadata": {},
   "source": [
    "##### 1.5.1 0 time lag"
   ]
  },
  {
   "cell_type": "code",
   "execution_count": 23,
   "metadata": {},
   "outputs": [
    {
     "data": {
      "image/png": "[encoded data removed]",
      "text/plain": [
       "<Figure size 432x288 with 2 Axes>"
      ]
     },
     "metadata": {},
     "output_type": "display_data"
    }
   ],
   "source": [
    "x = np.array([0.1,0.2,-0.1,4.1,-2,1.5,-0.1])\n",
    "y = np.array([0.1,4,-2.2,1.6,0.1,0.1,0.2])\n",
    "time = np.array([0, 1, 2, 3, 4, 5, 6])\n",
    "\n",
    "fig = plt.figure()\n",
    "\n",
    "ax1 = fig.add_axes([2.0, 1.0, 0.8, 0.4], xticklabels=[], ylim=(-5, 5))\n",
    "ax2 = fig.add_axes([2.0, 0.6, 0.8, 0.4], ylim=(-5, 5))\n",
    "ax1.plot(time, x,'-ok', color='blue')\n",
    "ax2.plot(time, y, '-ok',color ='red');"
   ]
  },
  {
   "cell_type": "markdown",
   "metadata": {},
   "source": [
    "$$ Correlation_{zero \\ lag} = (0.1)\\cdot (0.1)+(0.2)\\cdot(0.4)+(-0.1)\\cdot(-2.2)+(4.1)\\cdot(1.6)+(-2)\\cdot(0.1)+(1.5)\\cdot(0.1)+(-0.1)\\cdot(0.2) =7.52 $$"
   ]
  },
  {
   "cell_type": "markdown",
   "metadata": {},
   "source": [
    "##### 1.5.2 1 time lag"
   ]
  },
  {
   "cell_type": "code",
   "execution_count": 34,
   "metadata": {},
   "outputs": [
    {
     "data": {
      "image/png": "[encoded data removed]",
      "text/plain": [
       "<Figure size 432x288 with 2 Axes>"
      ]
     },
     "metadata": {},
     "output_type": "display_data"
    }
   ],
   "source": [
    "x = np.array([0.1,0.2,-0.1,4.1,-2,1.5,-0.1])\n",
    "y = np.array([0.1,4,-2.2,1.6,0.1,0.1,0.2])\n",
    "time = np.array([0, 1, 2, 3, 4, 5, 6])\n",
    "fig = plt.figure()\n",
    "ax1 = fig.add_axes([2.0, 1.0, 0.8, 0.4], xticklabels=[], ylim=(-5, 5), xlim =(-1,8))\n",
    "ax2 = fig.add_axes([2.0, 0.6, 0.8, 0.4], ylim=(-5, 5), xlim =(-1,8))\n",
    "ax1.plot(time, x,'-ok', color='blue')\n",
    "ax2.plot(time+1, y, '-ok',color ='red');"
   ]
  },
  {
   "cell_type": "markdown",
   "metadata": {},
   "source": [
    "$$ Correlation_{one \\ lag} = (0.2)\\cdot (0.1)+(-0.1)\\cdot(4)+(4.1)\\cdot(-2.2)+(-2)\\cdot(1.6)+(1.5)\\cdot(0.1)+(-0.1)\\cdot(0.1) =-12.46 $$"
   ]
  },
  {
   "cell_type": "markdown",
   "metadata": {},
   "source": [
    "##### 1.5.3 2 time lag"
   ]
  },
  {
   "cell_type": "code",
   "execution_count": 35,
   "metadata": {},
   "outputs": [
    {
     "data": {
      "image/png": "[encoded data removed]",
      "text/plain": [
       "<Figure size 432x288 with 2 Axes>"
      ]
     },
     "metadata": {},
     "output_type": "display_data"
    }
   ],
   "source": [
    "x = np.array([0.1,0.2,-0.1,4.1,-2,1.5,-0.1])\n",
    "y = np.array([0.1,4,-2.2,1.6,0.1,0.1,0.2])\n",
    "time = np.array([0, 1, 2, 3, 4, 5, 6])\n",
    "fig = plt.figure()\n",
    "ax1 = fig.add_axes([2.0, 1.0, 0.8, 0.4], xticklabels=[], ylim=(-5, 5), xlim =(-1,8))\n",
    "ax2 = fig.add_axes([2.0, 0.6, 0.8, 0.4], ylim=(-5, 5), xlim =(-1,8))\n",
    "ax1.plot(time, x,'-ok', color='blue')\n",
    "ax2.plot(time+2, y, '-ok',color ='red');"
   ]
  },
  {
   "cell_type": "markdown",
   "metadata": {},
   "source": [
    "$$ Correlation_{two \\ lag} = (-0.1)\\cdot(0.1)+(4.1)\\cdot(4)+(-2)\\cdot(-2.2)+(1.5)\\cdot(1.6)+(-0.1)\\cdot(0.1) =23.18 $$"
   ]
  },
  {
   "cell_type": "markdown",
   "metadata": {},
   "source": [
    "##### 1.5.4 Result"
   ]
  },
  {
   "cell_type": "markdown",
   "metadata": {},
   "source": [
    "$$ Correlation\\_Sequence = [7.52, -12.46, 23.18, -11.05, 6.02, -0.25, -0.01] $$"
   ]
  },
  {
   "cell_type": "markdown",
   "metadata": {},
   "source": [
    "#### 1.6 Python Library Calculation"
   ]
  },
  {
   "cell_type": "code",
   "execution_count": 48,
   "metadata": {},
   "outputs": [
    {
     "data": {
      "text/plain": [
       "array([  0.99,   0.1 ,   0.31,   7.52, -12.46,  23.18, -11.05])"
      ]
     },
     "execution_count": 48,
     "metadata": {},
     "output_type": "execute_result"
    }
   ],
   "source": [
    "x = np.array([0.1,0.2,-0.1,4.1,-2,1.5,-0.1])\n",
    "y = np.array([0.1,4,-2.2,1.6,0.1,0.1,0.2])\n",
    "np.correlate(x, y, \"same\")"
   ]
  },
  {
   "cell_type": "code",
   "execution_count": 115,
   "metadata": {},
   "outputs": [
    {
     "data": {
      "text/plain": [
       "array([  0.99,   0.1 ,   0.31,   7.52, -12.46,  23.18, -11.05])"
      ]
     },
     "execution_count": 115,
     "metadata": {},
     "output_type": "execute_result"
    }
   ],
   "source": [
    "from scipy import signal\n",
    "x = np.array([0.1,0.2,-0.1,4.1,-2,1.5,-0.1])\n",
    "y = np.array([0.1,4,-2.2,1.6,0.1,0.1,0.2])\n",
    "corr = signal.correlate(x, y, mode ='same')\n",
    "corr"
   ]
  },
  {
   "cell_type": "code",
   "execution_count": 118,
   "metadata": {},
   "outputs": [
    {
     "data": {
      "image/png": "[encoded data removed]",
      "text/plain": [
       "<Figure size 432x288 with 3 Axes>"
      ]
     },
     "metadata": {},
     "output_type": "display_data"
    }
   ],
   "source": [
    "fig = plt.figure()\n",
    "# Search trend volume\n",
    "ax1 = fig.add_subplot(311)\n",
    "ax1.plot(x)\n",
    "ax1.set_xlabel('x data')\n",
    "\n",
    "total = sum(x)\n",
    "av = total / len(x)\n",
    "z = [i - av for i in x]\n",
    "\n",
    "# Random: \"search trend volume\"\n",
    "ax2 = fig.add_subplot(312)\n",
    "ax2.plot(y)\n",
    "ax2.set_xlabel('y data')\n",
    "\n",
    "total1 = sum(y)\n",
    "av1 = total1 / len(y)\n",
    "z1 = [i - av1 for i in y]\n",
    "\n",
    "# Is there a pattern in search trend for this keyword?\n",
    "ax3 = fig.add_subplot(313)\n",
    "ax3.set_xlabel('Cross correlation of random data')\n",
    "ax3.xcorr(z, z1, usevlines=True, maxlags=None, normed=False, lw=2)\n",
    "ax3.grid(True)\n",
    "plt.ylim(-15, 25)\n",
    "plt.tight_layout()\n",
    "plt.show();"
   ]
  },
  {
   "cell_type": "markdown",
   "metadata": {},
   "source": [
    "## 2 Normalized cross-correlation \n",
    "\n",
    " The **comparison** of **two time series**, but using **a different scoring result**. Instead of simple cross-correlation, it can compare metrics with **different value ranges**."
   ]
  },
  {
   "cell_type": "markdown",
   "metadata": {},
   "source": [
    "$$ NCC =\\frac{\\sum_{i=1}^{MN}x_{i}y_{i}}{\\sqrt{\\sum_{i=1}^{MN}x_{i}^{2}\\cdot\\sum_{i=1}^{MN}y_{i}^{2} }} $$"
   ]
  },
  {
   "cell_type": "markdown",
   "metadata": {},
   "source": [
    "#### 2.1 Example "
   ]
  },
  {
   "cell_type": "code",
   "execution_count": 119,
   "metadata": {},
   "outputs": [
    {
     "data": {
      "text/plain": [
       "array([ 0.21428571,  0.57142857,  1.        ,  0.57142857,  0.21428571])"
      ]
     },
     "execution_count": 119,
     "metadata": {},
     "output_type": "execute_result"
    }
   ],
   "source": [
    "\n",
    "x = np.array([1.0,2.0,3.0])\n",
    "y = np.array([1.0,2.0,3.0])\n",
    "from obspy.signal.cross_correlation import correlate\n",
    "correlate(x,y,shift=2,normalize=True, demean=False)\n"
   ]
  },
  {
   "cell_type": "code",
   "execution_count": 123,
   "metadata": {},
   "outputs": [
    {
     "data": {
      "image/png": "[encoded data removed]",
      "text/plain": [
       "<Figure size 432x288 with 1 Axes>"
      ]
     },
     "metadata": {},
     "output_type": "display_data"
    }
   ],
   "source": [
    "x = np.array([1.0,2.0,3.0])\n",
    "y = np.array([1.0,2.0,3.0])\n",
    "fig = plt.figure()\n",
    "ax1 = fig.add_subplot(111)\n",
    "ax1.xcorr(x, y, usevlines=True, maxlags=2, normed=True, lw=2)\n",
    "ax1.grid(True)\n",
    "ax1.set_ylim(0, 1.1)\n",
    "ax1.axhline(0, color='black', lw=2)\n",
    "plt.show();"
   ]
  },
  {
   "cell_type": "markdown",
   "metadata": {},
   "source": [
    "#### 2.2 Zero-mean Normalized Cross-Correlation"
   ]
  },
  {
   "cell_type": "markdown",
   "metadata": {},
   "source": [
    "$$ ZNCC =\\frac{\\sum_{i=1}^{MN}(x_{i}-\\bar{x})(y_{i}-\\bar{y})}{\\sqrt{\\sum_{i=1}^{MN}(x_{i}-\\bar{x})^{2}\\cdot\\sum_{i=1}^{MN}(y_{i}-\\bar{y})^{2} }} $$"
   ]
  },
  {
   "cell_type": "markdown",
   "metadata": {},
   "source": [
    "where **x̄**  and **ȳ** are the **mean intensity values**."
   ]
  },
  {
   "cell_type": "code",
   "execution_count": 128,
   "metadata": {},
   "outputs": [
    {
     "data": {
      "text/plain": [
       "array([-0.57735027,  0.28867513,  0.8660254 , -0.28867513, -0.28867513])"
      ]
     },
     "execution_count": 128,
     "metadata": {},
     "output_type": "execute_result"
    }
   ],
   "source": [
    "x = np.array([1.0,2.0,3.0])\n",
    "y = np.array([1.0,1.0,2.0])\n",
    "from obspy.signal.cross_correlation import correlate\n",
    "result = correlate(x,y,shift=2,normalize=True, demean=True)\n",
    "result"
   ]
  },
  {
   "cell_type": "code",
   "execution_count": 135,
   "metadata": {},
   "outputs": [
    {
     "data": {
      "image/png": "[encoded data removed]",
      "text/plain": [
       "<Figure size 432x288 with 1 Axes>"
      ]
     },
     "metadata": {},
     "output_type": "display_data"
    }
   ],
   "source": [
    "x = np.array([-2,-1,0,1,2])\n",
    "y = result\n",
    "fig = plt.figure()\n",
    "ax1 = fig.add_axes([2.0, 1.0, 0.8, 0.4], xticklabels=[-3,-2,-1,0,1,2,3], ylim=(-1, 1), xlim =(-3,3))\n",
    "ax1.plot(x, y, '-ok',color ='red');"
   ]
  },
  {
   "cell_type": "markdown",
   "metadata": {},
   "source": [
    "#### 2.3 Auto-correlation"
   ]
  },
  {
   "cell_type": "markdown",
   "metadata": {},
   "source": [
    "The **comparison** of a **time series** with itself at a **different time**. It aims, for example, to **detect repeating patterns or seasonality**. For example: “Is there weekly seasonality on a server website?” “Does the current week’s data highly correlate with that of the previous week?”\n",
    "\n",
    "You can see the example from **Normalized cross-correlation**.\n",
    "\n",
    "[scipy.signal.correlate](https://docs.scipy.org/doc/scipy-0.18.1/reference/generated/scipy.signal.correlate.html)"
   ]
  },
  {
   "cell_type": "markdown",
   "metadata": {},
   "source": [
    "## 3. Convolution"
   ]
  },
  {
   "cell_type": "markdown",
   "metadata": {},
   "source": [
    "#### 3.1 Formula"
   ]
  },
  {
   "cell_type": "markdown",
   "metadata": {},
   "source": [
    "$$ G[i,j]=\\sum_{v=-k}^{k}\\sum_{v=-k}^{k}h[u,v]\\cdot F[i-u,j-v] $$\n",
    "Denoted by:   $$ G = h*F $$\n",
    "\n",
    "[Convolution](https://zh.wikipedia.org/wiki/%E5%8D%B7%E7%A7%AF)\n",
    "\n",
    "\n",
    "[ocn_data_analysis](https://currents.soest.hawaii.edu/ocn_data_analysis/_static/SEM_EDOF.html)\n",
    "\n",
    "[relate material](https://currents.soest.hawaii.edu/ocn_data_analysis/_static/SEM_EDOF.html)"
   ]
  },
  {
   "cell_type": "markdown",
   "metadata": {},
   "source": [
    "**Flip fliter** in both dimensions\n",
    "\n",
    "    1) Bottom to Top\n",
    "    2) Right to Left\n",
    "Then apply **cross-correlation**"
   ]
  },
  {
   "cell_type": "markdown",
   "metadata": {},
   "source": [
    "![title](img/convolution.jpg)"
   ]
  },
  {
   "cell_type": "markdown",
   "metadata": {},
   "source": [
    "#### 3.2 1-D Formula"
   ]
  },
  {
   "cell_type": "markdown",
   "metadata": {},
   "source": [
    "$$ y(t)=\\int_{-\\infty}^{+\\infty}x(\\imath )h(t-\\imath )d\\imath = \\int_{-\\infty}^{+\\infty}h(\\imath )x(t-\\imath )d\\imath $$"
   ]
  },
  {
   "cell_type": "markdown",
   "metadata": {},
   "source": [
    "#### 3.3 Cross-correlation vs Convolution"
   ]
  },
  {
   "cell_type": "markdown",
   "metadata": {},
   "source": [
    "![title](img/compare_1.jpg)\n",
    "![title](img/compare_2.jpg)\n",
    "![title](img/compare_3.jpg)\n",
    "![title](img/compare_4.jpg)\n",
    "![title](img/compare_5.jpg)\n",
    "![title](img/compare_6.jpg)\n",
    "![title](img/compare_7.jpg)"
   ]
  },
  {
   "cell_type": "markdown",
   "metadata": {},
   "source": [
    "#### 3.4 Properties of Convolution"
   ]
  },
  {
   "cell_type": "markdown",
   "metadata": {},
   "source": [
    "1) Linear and Shift Invariants\n",
    "\n",
    "    Behaves the same everywhere(i.e., the value of the output depends on the pattern in the image neighborhood, not the position of the neigborhood)\n",
    "    \n",
    "2) Commutative $$ F*G=G*F $$\n",
    "\n",
    "3) Associative $$ (F*G)*H=F*(G*H) $$\n",
    "\n",
    "4) Identity: Unit Impulse\n",
    "    E=[....0, 0, 1, 0, 0,....],\n",
    "    \n",
    "    F*E=F\n",
    "    \n",
    "5) Separable\n",
    "    If the filter is separable, convolve all rows, then convolve all columns"
   ]
  },
  {
   "cell_type": "markdown",
   "metadata": {},
   "source": [
    "#### 3.5 Demo Code"
   ]
  },
  {
   "cell_type": "code",
   "execution_count": 137,
   "metadata": {},
   "outputs": [
    {
     "name": "stdout",
     "output_type": "stream",
     "text": [
      "[ 0.   1.   2.5  4.   1.5]\n",
      "[ 1.   2.5  4. ]\n",
      "[ 2.5]\n"
     ]
    }
   ],
   "source": [
    "# Note how the convolution operator flips the second array before “sliding” the two across one another:\n",
    "print(np.convolve([1, 2, 3], [0, 1, 0.5]))\n",
    "\n",
    "# Only return the middle values of the convolution. Contains boundary effects, where zeros are taken into account:\n",
    "print(np.convolve([1,2,3],[0,1,0.5], 'same'))\n",
    "\n",
    "# The two arrays are of the same length, so there is only one position where they completely overlap:\n",
    "print(np.convolve([1,2,3],[0,1,0.5], 'valid'))\n"
   ]
  },
  {
   "cell_type": "code",
   "execution_count": null,
   "metadata": {},
   "outputs": [],
   "source": []
  }
 ],
 "metadata": {
  "kernelspec": {
   "display_name": "Python 3",
   "language": "python",
   "name": "python3"
  },
  "language_info": {
   "codemirror_mode": {
    "name": "ipython",
    "version": 3
   },
   "file_extension": ".py",
   "mimetype": "text/x-python",
   "name": "python",
   "nbconvert_exporter": "python",
   "pygments_lexer": "ipython3",
   "version": "3.6.4"
  }
 },
 "nbformat": 4,
 "nbformat_minor": 2
}
