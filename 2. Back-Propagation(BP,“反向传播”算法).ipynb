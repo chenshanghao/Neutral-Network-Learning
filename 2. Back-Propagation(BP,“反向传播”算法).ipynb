{
 "cells": [
  {
   "cell_type": "markdown",
   "metadata": {},
   "source": [
    "区别: **BP**负责**计算梯度**,**SGD**负责从**梯度训练网络**"
   ]
  },
  {
   "cell_type": "markdown",
   "metadata": {},
   "source": [
    "## 1. SGD公式"
   ]
  },
  {
   "cell_type": "markdown",
   "metadata": {},
   "source": [
    "**均方差(mean squared error, MSE)损失**:$$ LOSS=(OUT-期望输出)^{2} $$"
   ]
  },
  {
   "cell_type": "markdown",
   "metadata": {},
   "source": [
    "对于**权重(weight)**，公式为:\n",
    "$$ w_{i}^{new} = w_{i} - \\eta \\cdot \\frac{\\partial LOSS}{\\partial w_{i}}=w_{i} - \\eta \\cdot \\frac{\\partial LOSS}{\\partial OUT} \\cdot  \\frac{\\partial OUT}{\\partial w_{i}}=w_{i}-\\eta\\cdot 2(OUT-期望输出)\\cdot x_{i}$$"
   ]
  },
  {
   "cell_type": "markdown",
   "metadata": {},
   "source": [
    "那么，对于**偏置(bias)**,公式为:"
   ]
  },
  {
   "cell_type": "markdown",
   "metadata": {},
   "source": [
    "$$ b^{new} = b - \\eta \\cdot \\frac{\\partial LOSS}{\\partial b}=b - \\eta \\cdot \\frac{\\partial LOSS}{\\partial OUT} \\cdot  \\frac{\\partial OUT}{\\partial b}=b-\\eta\\cdot 2(OUT-期望输出)$$"
   ]
  },
  {
   "cell_type": "markdown",
   "metadata": {},
   "source": [
    "## 2. BP Example"
   ]
  },
  {
   "cell_type": "markdown",
   "metadata": {},
   "source": [
    "![title](img/neutral_network.jpg)"
   ]
  },
  {
   "cell_type": "markdown",
   "metadata": {},
   "source": [
    "图中**b<sub>1</sub> 到 b<sub>5</sub>** 为1到5号**神经元**。**I<sub>k</sub>**代表**第k个神经元的总输入**，**O<sub>k</sub>**代表第k个**神经元的输出**(即I<sub>k</sub>在激活后的值), **G<sub>k</sub>**代表**梯度**,**f代表激活函数**。"
   ]
  },
  {
   "cell_type": "markdown",
   "metadata": {},
   "source": [
    "因此，对于  ***I*** 和  ***O***:"
   ]
  },
  {
   "cell_type": "code",
   "execution_count": null,
   "metadata": {},
   "outputs": [],
   "source": []
  }
 ],
 "metadata": {
  "kernelspec": {
   "display_name": "Python 3",
   "language": "python",
   "name": "python3"
  },
  "language_info": {
   "codemirror_mode": {
    "name": "ipython",
    "version": 3
   },
   "file_extension": ".py",
   "mimetype": "text/x-python",
   "name": "python",
   "nbconvert_exporter": "python",
   "pygments_lexer": "ipython3",
   "version": "3.6.4"
  }
 },
 "nbformat": 4,
 "nbformat_minor": 2
}
