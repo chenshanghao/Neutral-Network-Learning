{
 "cells": [
  {
   "cell_type": "markdown",
   "metadata": {},
   "source": [
    "区别: **BP**负责**计算梯度**,**SGD**负责从**梯度训练网络**"
   ]
  },
  {
   "cell_type": "markdown",
   "metadata": {},
   "source": [
    "## 1. SGD公式"
   ]
  },
  {
   "cell_type": "markdown",
   "metadata": {},
   "source": [
    "**均方差(mean squared error, MSE)损失**:$$ LOSS=(OUT-期望输出)^{2} $$"
   ]
  },
  {
   "cell_type": "markdown",
   "metadata": {},
   "source": [
    "对于**权重(weight)**，公式为:\n",
    "$$ w_{i}^{new} = w_{i} - \\eta \\cdot \\frac{\\partial LOSS}{\\partial w_{i}}=w_{i} - \\eta \\cdot \\frac{\\partial LOSS}{\\partial OUT} \\cdot  \\frac{\\partial OUT}{\\partial w_{i}}=w_{i}-\\eta\\cdot 2(OUT-期望输出)\\cdot x_{i}$$"
   ]
  },
  {
   "cell_type": "markdown",
   "metadata": {},
   "source": [
    "那么，对于**偏置(bias)**,公式为:"
   ]
  },
  {
   "cell_type": "markdown",
   "metadata": {},
   "source": [
    "$$ b^{new} = b - \\eta \\cdot \\frac{\\partial LOSS}{\\partial b}=b - \\eta \\cdot \\frac{\\partial LOSS}{\\partial OUT} \\cdot  \\frac{\\partial OUT}{\\partial b}=b-\\eta\\cdot 2(OUT-期望输出)$$"
   ]
  },
  {
   "cell_type": "markdown",
   "metadata": {},
   "source": [
    "## 2. BP Example"
   ]
  },
  {
   "cell_type": "markdown",
   "metadata": {},
   "source": [
    "![title](img/neutral_network.jpg)"
   ]
  },
  {
   "cell_type": "markdown",
   "metadata": {},
   "source": [
    "图中**b<sub>1</sub> 到 b<sub>5</sub>** 为1到5号**神经元**。**I<sub>k</sub>**代表**第k个神经元的总输入**，**O<sub>k</sub>**代表第k个**神经元的输出**(即I<sub>k</sub>在激活后的值), **G<sub>k</sub>**代表**梯度**,**f代表激活函数**。"
   ]
  },
  {
   "cell_type": "markdown",
   "metadata": {},
   "source": [
    "因此，对于  ***I*** 和 ***O***:"
   ]
  },
  {
   "cell_type": "markdown",
   "metadata": {},
   "source": [
    "$$ I_{1}=w_{11}x_{1}+w_{21}x_{2}+b_{1}     \\qquad   O_{1}=f(I_{1}) $$\n",
    "\n",
    "$$ I_{2}=w_{12}x_{1}+w_{22}x_{2}+b_{2}     \\qquad   O_{2}=f(I_{2}) $$\n",
    "\n",
    "$$ I_{3}=w_{13}O_{1}+w_{23}O_{2}+b_{3}     \\qquad   O_{3}=f(I_{3}) $$\n",
    "\n",
    "$$ I_{4}=w_{14}O_{1}+w_{24}O_{2}+b_{4}     \\qquad   O_{4}=f(I_{4}) $$\n",
    "\n",
    "$$ I_{5}=w_{34}O_{3}+w_{45}O_{4}+b_{5}     \\qquad   O_{5}=f(I_{5}) $$"
   ]
  },
  {
   "cell_type": "markdown",
   "metadata": {},
   "source": [
    "对于 ***G***:"
   ]
  },
  {
   "cell_type": "markdown",
   "metadata": {},
   "source": [
    "$$ G_{5} = \\frac{\\partial O_{5}}{\\partial I_{5}} =g{}'(I_{5}) $$\n",
    "\n",
    "$$ G_{4} = \\frac{\\partial O_{5}}{\\partial I_{4}} =\\frac{\\partial O_{5}}{\\partial I_{5}}\\cdot \\frac{\\partial I_{5}}{\\partial O_{4}}\\cdot \\frac{\\partial O_{4}}{\\partial I_{4}} = G_{5}\\cdot w_{45}\\cdot f{}'(I_{4})  \\qquad\n",
    "其中： \\frac{\\partial I_{5}}{\\partial O_{4}} = \\frac{\\partial (w_{35}O_{3}+w_{45}O_{4}+b_{5})}{\\partial O_{4}} =w_{45}\n",
    "$$\n",
    "\n",
    "\n",
    "$$ G_{3} = \\frac{\\partial O_{5}}{\\partial I_{3}} =\\frac{\\partial O_{5}}{\\partial I_{5}}\\cdot \\frac{\\partial I_{5}}{\\partial O_{3}}\\cdot \\frac{\\partial O_{3}}{\\partial I_{3}} = G_{5}\\cdot w_{35}\\cdot f{}'(I_{3}) \\qquad \n",
    "其中： \\frac{\\partial I_{5}}{\\partial O_{3}} = \\frac{\\partial (w_{35}O_{3}+w_{45}O_{4}+b_{5})}{\\partial O_{3}} =w_{35}\n",
    "$$"
   ]
  },
  {
   "cell_type": "markdown",
   "metadata": {},
   "source": [
    "其中，对于**G<sub>2</sub>** 和 **G<sub>1</sub>** 需要使用求导的**链式法则**:"
   ]
  },
  {
   "cell_type": "markdown",
   "metadata": {},
   "source": [
    "$$ \n",
    "G_{2} = \\frac{\\partial O_{5}}{\\partial I_{2}} =(\\frac{\\partial O_{5}}{\\partial I_{4}}\\cdot \\frac{\\partial I_{4}}{\\partial O_{2}} + \\frac{\\partial O_{5}}{\\partial I_{3}}\\cdot \\frac{\\partial I_{3}}{\\partial O_{2}})\\cdot \\frac{\\partial O_{2}}{\\partial I_{2}} = (G_{4}\\cdot w_{24}+G_{3}\\cdot w_{23})\\cdot f'({I_{2}})\n",
    "$$\n",
    "\n",
    "$$\n",
    "G_{1} = \\frac{\\partial O_{5}}{\\partial I_{1}} =(\\frac{\\partial O_{5}}{\\partial I_{4}}\\cdot \\frac{\\partial I_{4}}{\\partial O_{1}} + \\frac{\\partial O_{5}}{\\partial I_{3}}\\cdot \\frac{\\partial I_{3}}{\\partial O_{1}})\\cdot \\frac{\\partial O_{1}}{\\partial I_{1}} = (G_{4}\\cdot w_{14}+G_{3}\\cdot w_{13})\\cdot f'({I_{1}})\n",
    "$$"
   ]
  },
  {
   "cell_type": "markdown",
   "metadata": {},
   "source": [
    "在计算**第n层**的**神经元的导数**时，需要考虑**它**与**导数n-1层**的所有连接，将相应的**导数求和**，这就是**BP的精髓**。"
   ]
  },
  {
   "cell_type": "markdown",
   "metadata": {},
   "source": [
    "之后，我们可以算出相对应的$$ \\frac{\\partial OUT}{\\partial w_{ij}} $$\n",
    "\n",
    "其中:"
   ]
  },
  {
   "cell_type": "markdown",
   "metadata": {},
   "source": [
    "$$ \n",
    "\\frac{\\partial O_{5}}{\\partial w_{11}} = \\frac{\\partial O_{5}}{\\partial I_{1}} \\cdot \\frac{\\partial I_{1}}{\\partial w_{11}} =G_{1} \\cdot x_{1}\n",
    "$$\n",
    "\n",
    "$$\n",
    "\\frac{\\partial O_{5}}{\\partial w_{12}} = \\frac{\\partial O_{5}}{\\partial I_{2}} \\cdot \\frac{\\partial I_{2}}{\\partial w_{12}} =G_{2} \\cdot x_{2}\n",
    "$$\n",
    "\n",
    "$$\n",
    "\\frac{\\partial O_{5}}{\\partial w_{21}} = \\frac{\\partial O_{5}}{\\partial I_{1}} \\cdot \\frac{\\partial I_{1}}{\\partial w_{21}} =G_{1} \\cdot x_{2}\n",
    "$$\n",
    "\n",
    "$$\n",
    "\\frac{\\partial O_{5}}{\\partial w_{22}} = \\frac{\\partial O_{5}}{\\partial I_{2}} \\cdot \\frac{\\partial I_{2}}{\\partial w_{22}} =G_{2} \\cdot x_{2}\n",
    "$$\n",
    "\n",
    "$$\n",
    "\\frac{\\partial O_{5}}{\\partial w_{13}} = \\frac{\\partial O_{5}}{\\partial I_{3}} \\cdot \\frac{\\partial I_{3}}{\\partial w_{13}} =G_{3} \\cdot O_{1}\n",
    "$$\n",
    "\n",
    "$$\n",
    "\\frac{\\partial O_{5}}{\\partial w_{23}} = \\frac{\\partial O_{5}}{\\partial I_{3}} \\cdot \\frac{\\partial I_{3}}{\\partial w_{23}} =G_{3} \\cdot O_{2}\n",
    "$$\n",
    "\n",
    "$$\n",
    "\\frac{\\partial O_{5}}{\\partial w_{14}} = \\frac{\\partial O_{5}}{\\partial I_{4}} \\cdot \\frac{\\partial I_{4}}{\\partial w_{14}} =G_{4} \\cdot O_{1}\n",
    "$$\n",
    "\n",
    "$$\n",
    "\\frac{\\partial O_{5}}{\\partial w_{24}} = \\frac{\\partial O_{5}}{\\partial I_{4}} \\cdot \\frac{\\partial I_{4}}{\\partial w_{24}} =G_{4} \\cdot O_{2}\n",
    "$$\n",
    "\n",
    "$$\n",
    "\\frac{\\partial O_{5}}{\\partial w_{35}} = \\frac{\\partial O_{5}}{\\partial I_{5}} \\cdot \\frac{\\partial I_{5}}{\\partial w_{35}} =G_{5} \\cdot O_{3}\n",
    "$$\n",
    "\n",
    "$$\n",
    "\\frac{\\partial O_{5}}{\\partial w_{45}} = \\frac{\\partial O_{5}}{\\partial I_{5}} \\cdot \\frac{\\partial I_{5}}{\\partial w_{45}} =G_{5} \\cdot O_{4}\n",
    "$$\n"
   ]
  },
  {
   "cell_type": "markdown",
   "metadata": {},
   "source": [
    "## 3. 参数更新"
   ]
  },
  {
   "cell_type": "markdown",
   "metadata": {},
   "source": [
    "我们可以根据SGD的参数更新公式，更新 *b* 和 *w*:\n",
    "\n",
    "下面对**b<sub>3</sub>** 和 **w<sub>13</sub>** 举例:"
   ]
  },
  {
   "cell_type": "markdown",
   "metadata": {},
   "source": [
    "$$\n",
    "b_{3}^{new} = b_{3} - \\eta \\cdot \\frac{\\partial LOSS}{\\partial OUT} \\cdot \\frac{\\partial OUT}{\\partial b_{3}} \n",
    "$$\n",
    "\n",
    "$$\n",
    "w_{13}^{new} = w_{13} - \\eta \\cdot \\frac{\\partial LOSS}{\\partial OUT} \\cdot \\frac{\\partial OUT}{\\partial w_{13}} \n",
    "$$\n",
    "\n",
    "其中:\n",
    "$$\n",
    "\\frac{\\partial LOSS}{\\partial OUT} = \\frac{\\partial (OUT-期望输出)^{2}}{\\partial OUT} = 2 \\cdot (OUT-期望输出)\n",
    "$$\n",
    "\n",
    "$$\n",
    "\\frac{\\partial O_{5}}{\\partial b_{3}} = \\frac{\\partial O_{5}}{\\partial I_{3}} \\cdot \\frac{\\partial I_{3}}{\\partial b_{3}} =G_{3}\n",
    "$$\n",
    "\n",
    "$$\n",
    "\\frac{\\partial O_{5}}{\\partial w_{13}} = \\frac{\\partial O_{5}}{\\partial I_{3}} \\cdot \\frac{\\partial I_{3}}{\\partial w_{13}} =G_{3} \\cdot O_{1}\n",
    "$$"
   ]
  },
  {
   "cell_type": "markdown",
   "metadata": {},
   "source": [
    "## 4. 梯度消失，梯度爆炸"
   ]
  },
  {
   "cell_type": "markdown",
   "metadata": {},
   "source": [
    "**梯度消失(Gradient Vanishing)**: **G<sub>k</sub>** 有可能在传播过程中**绝对值越来越小(直到变成0)**， 这称为**梯度消失**。\n",
    "\n",
    "\n",
    "**梯度爆炸(Gradient Explosion)**: **G<sub>k</sub>** 有可能在传播过程中**绝对值越来越大(直到发散)**，这称为**梯度爆炸**，其会使得**网络不稳定，性能崩溃**。\n",
    "\n",
    "[相关文档](https://zhuanlan.zhihu.com/p/25631496)\n"
   ]
  },
  {
   "cell_type": "code",
   "execution_count": null,
   "metadata": {},
   "outputs": [],
   "source": []
  }
 ],
 "metadata": {
  "kernelspec": {
   "display_name": "Python 3",
   "language": "python",
   "name": "python3"
  },
  "language_info": {
   "codemirror_mode": {
    "name": "ipython",
    "version": 3
   },
   "file_extension": ".py",
   "mimetype": "text/x-python",
   "name": "python",
   "nbconvert_exporter": "python",
   "pygments_lexer": "ipython3",
   "version": "3.6.6"
  }
 },
 "nbformat": 4,
 "nbformat_minor": 2
}
