{
 "cells": [
  {
   "cell_type": "markdown",
   "metadata": {},
   "source": [
    "区别: **BP**负责**计算梯度**,**SGD**负责从**梯度训练网络**"
   ]
  },
  {
   "cell_type": "markdown",
   "metadata": {},
   "source": [
    "## 1. SGD公式"
   ]
  },
  {
   "cell_type": "markdown",
   "metadata": {},
   "source": [
    "**均方差(mean squared error, MSE)损失**:$$ LOSS=(OUT-期望输出)^{2} $$"
   ]
  },
  {
   "cell_type": "markdown",
   "metadata": {},
   "source": [
    "对于**权重(weight)**，公式为:\n",
    "$$ w_{i}^{new} = w_{i} - \\eta \\cdot \\frac{\\partial LOSS}{\\partial w_{i}}=w_{i} - \\eta \\cdot \\frac{\\partial LOSS}{\\partial OUT} \\cdot  \\frac{\\partial OUT}{\\partial w_{i}}=w_{i}-\\eta\\cdot 2(OUT-期望输出)\\cdot x_{i}$$"
   ]
  },
  {
   "cell_type": "markdown",
   "metadata": {},
   "source": [
    "那么，对于**偏置(bias)**,公式为:"
   ]
  },
  {
   "cell_type": "markdown",
   "metadata": {},
   "source": [
    "$$ b^{new} = b - \\eta \\cdot \\frac{\\partial LOSS}{\\partial b}=b - \\eta \\cdot \\frac{\\partial LOSS}{\\partial OUT} \\cdot  \\frac{\\partial OUT}{\\partial b}=b-\\eta\\cdot 2(OUT-期望输出)$$"
   ]
  },
  {
   "cell_type": "markdown",
   "metadata": {},
   "source": [
    "## 2. BP Example"
   ]
  },
  {
   "cell_type": "markdown",
   "metadata": {},
   "source": [
    "![title](img/neutral_network.jpg)"
   ]
  },
  {
   "cell_type": "markdown",
   "metadata": {},
   "source": [
    "图中**b<sub>1</sub> 到 b<sub>5</sub>** 为1到5号**神经元**。**I<sub>k</sub>**代表**第k个神经元的总输入**，**O<sub>k</sub>**代表第k个**神经元的输出**(即I<sub>k</sub>在激活后的值), **G<sub>k</sub>**代表**梯度**,**f代表激活函数**。"
   ]
  },
  {
   "cell_type": "markdown",
   "metadata": {},
   "source": [
    "因此，对于  ***I***:"
   ]
  },
  {
   "cell_type": "markdown",
   "metadata": {},
   "source": [
    "$$ I_{1}=w_{11}x_{1}+w_{21}x_{2}+b_{1}     \\qquad   O_{1}=f(I_{1}) $$\n",
    "\n",
    "$$ I_{2}=w_{12}x_{1}+w_{22}x_{2}+b_{2}     \\qquad   O_{2}=f(I_{2}) $$\n",
    "\n",
    "$$ I_{3}=w_{13}O_{1}+w_{23}O_{2}+b_{3}     \\qquad   O_{3}=f(I_{3}) $$\n",
    "\n",
    "$$ I_{4}=w_{14}O_{1}+w_{24}O_{2}+b_{4}     \\qquad   O_{4}=f(I_{4}) $$\n",
    "\n",
    "$$ I_{5}=w_{34}O_{3}+w_{45}O_{4}+b_{5}     \\qquad   O_{5}=f(I_{5}) $$"
   ]
  },
  {
   "cell_type": "markdown",
   "metadata": {},
   "source": [
    "对于 ***O***:"
   ]
  },
  {
   "cell_type": "markdown",
   "metadata": {},
   "source": [
    "$$ G_{5} = \\frac{\\partial O_{5}}{\\partial I_{5}} =g{}'(I_{5}) $$\n",
    "\n",
    "$$ G_{4} = \\frac{\\partial O_{5}}{\\partial I_{4}} =\\frac{\\partial O_{5}}{\\partial I_{5}}\\cdot \\frac{\\partial I_{5}}{\\partial O_{4}}\\cdot \\frac{\\partial O_{4}}{\\partial I_{4}} = G_{5}\\cdot w_{45}\\cdot f{}'(I_{4})  \\qquad\n",
    "其中： \\frac{\\partial I_{5}}{\\partial O_{4}} = \\frac{\\partial (w_{35}O_{3}+w_{45}O_{4}+b_{5})}{O_{4}} =w_{45}\n",
    "$$"
   ]
  }
 ],
 "metadata": {
  "kernelspec": {
   "display_name": "Python 3",
   "language": "python",
   "name": "python3"
  },
  "language_info": {
   "codemirror_mode": {
    "name": "ipython",
    "version": 3
   },
   "file_extension": ".py",
   "mimetype": "text/x-python",
   "name": "python",
   "nbconvert_exporter": "python",
   "pygments_lexer": "ipython3",
   "version": "3.6.4"
  }
 },
 "nbformat": 4,
 "nbformat_minor": 2
}
