{
 "cells": [
  {
   "cell_type": "code",
   "execution_count": 5,
   "metadata": {},
   "outputs": [],
   "source": [
    "import os\n",
    "import torch\n",
    "from torch import device\n",
    "import glob\n",
    "import datetime\n",
    "import numpy as np\n",
    "import shutil\n",
    "from pathlib import Path\n",
    "import pickle\n",
    "import pandas as pd"
   ]
  },
  {
   "cell_type": "code",
   "execution_count": 6,
   "metadata": {},
   "outputs": [],
   "source": [
    "data = 'ecg'                  # type of the dataset (ecg, gesture, power_demand, space_shuttle, respiration, nyc_taxi\n",
    "filename = 'chfdb_chf01_275.pkl'   # filename of the dataset\n",
    "model = 'LSTM'                # type of recurrent net (RNN_TANH, RNN_RELU, LSTM, GRU, SRU\n",
    "augment = True                # augment\n",
    "emsize = 32                   # size of rnn input features\n",
    "nhid = 32                     # number of hidden units per layer\n",
    "nlayers = 2                   # number of layers\n",
    "res_connection = True         # residual connection\n",
    "lr = 0.0002                   # initial learning rate\n",
    "weight_decay = 1e-4           # weight decay\n",
    "clip = 10                     # gradient clipping\n",
    "epochs = 400                  # upper epoch limit\n",
    "batch_size = 64               # batch size\n",
    "eval_batch_size = 64          # eval_batch size\n",
    "bptt = 50                     # sequence length\n",
    "teacher_forcing_ratio = 0.5   # teacher forcing ratio (deprecated)\n",
    "dropout = 0.2                 # dropout applied to layers (0 = no dropout)\n",
    "tied = True                   # tie the word embedding and softmax weights (deprecated)\n",
    "seed = 1111                   # random seed\n",
    "device = 'cpu'                # cuda or cpu\n",
    "log_interval = 10             # report interval\n",
    "save_interval = 10            # save interval\n",
    "save_fig = True               # save figure\n",
    "resume = False                # use checkpoint model parameters as initial parameters (default: False)\n",
    "pretrained = False            # use checkpoint model parameters and do not train anymore (default: False)\n",
    "prediction_window_size = 10   # prediction_window_size\n",
    "\n",
    "# Set the random seed manually for reproducibility.\n",
    "torch.manual_seed(seed)\n",
    "torch.cuda.manual_seed(seed)"
   ]
  },
  {
   "cell_type": "code",
   "execution_count": 40,
   "metadata": {},
   "outputs": [
    {
     "data": {
      "text/plain": [
       "array([0., 0., 0., ..., 0., 0., 0.], dtype=float32)"
      ]
     },
     "execution_count": 40,
     "metadata": {},
     "output_type": "execute_result"
    }
   ],
   "source": [
    "with open(test_path, 'rb') as f:\n",
    "    data = torch.FloatTensor(pickle.load(f))\n",
    "    label = data[:,-1]\n",
    "    data = data[:,:-1]\n",
    "label.numpy()"
   ]
  }
 ],
 "metadata": {
  "kernelspec": {
   "display_name": "Python 3",
   "language": "python",
   "name": "python3"
  },
  "language_info": {
   "codemirror_mode": {
    "name": "ipython",
    "version": 3
   },
   "file_extension": ".py",
   "mimetype": "text/x-python",
   "name": "python",
   "nbconvert_exporter": "python",
   "pygments_lexer": "ipython3",
   "version": "3.6.6"
  }
 },
 "nbformat": 4,
 "nbformat_minor": 2
}
